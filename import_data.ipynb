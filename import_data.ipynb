{
 "cells": [
  {
   "cell_type": "code",
   "execution_count": 21,
   "metadata": {},
   "outputs": [],
   "source": [
    "import chromadb\n",
    "from chromadb.utils import embedding_functions\n",
    "from chromadb.config import Settings\n"
   ]
  },
  {
   "cell_type": "code",
   "execution_count": 22,
   "metadata": {},
   "outputs": [],
   "source": [
    "chroma_client = chromadb.PersistentClient(path=\"chromadb\")\n",
    "# chroma_client = chromadb.Client()"
   ]
  },
  {
   "cell_type": "code",
   "execution_count": 39,
   "metadata": {},
   "outputs": [
    {
     "name": "stdout",
     "output_type": "stream",
     "text": [
      "Texas Chicken[\"Western\", \"Fast Food\", \"Halal\", \"Chicken\", \"Beverages\"]\n",
      "Texas Chicken\n",
      "103.82210285559165\n"
     ]
    }
   ],
   "source": [
    "import csv\n",
    "\n",
    "with open('Grab SG Restaurants Modified.csv') as file:\n",
    "    lines = csv.reader(file)\n",
    "\n",
    "    #id_source,name,address,country,cuisine,currency,delivery_cost,lat,lon,opening_hours,image_url,radius,rating,reviews_nr,delivery_options,promo,loc_type,delivery_by,delivery_time,halal,beverage,soup,seafood,healthy,fast food,local,countries\n",
    "\n",
    "    documents = []\n",
    "    metadatas = []\n",
    "    ids = []\n",
    "    id = 1\n",
    "\n",
    "    for i, line in enumerate(lines):\n",
    "        if i == 0:\n",
    "            continue\n",
    "        \n",
    "        documents.append(line[1] + line[4])\n",
    "        metadatas.append({\"name\": line[1],\"address\": line[2],\"halal\": line[-8], \"beverage\": line[-7], \"soup\": line[-6], \"seafood\": line[-5], \"healthy\": line[-4], \"fast food\": line[-3], \"local\": line[-2], \"countries\": line[-1], \"latitude\": float(line[7]), \"longitude\": float(line[8])})\n",
    "        ids.append(str(id))\n",
    "        id += 1\n",
    "\n",
    "    documents = documents\n",
    "    metadatas = metadatas\n",
    "    ids = ids\n",
    "\n",
    "    print(documents[0])\n",
    "    print(metadatas[0][\"name\"])\n",
    "    print(metadatas[0][\"longitude\"])\n",
    "\n",
    "\n",
    "    \n",
    "    \n",
    "\n",
    "    \n",
    "\n"
   ]
  },
  {
   "cell_type": "code",
   "execution_count": 40,
   "metadata": {},
   "outputs": [
    {
     "name": "stdout",
     "output_type": "stream",
     "text": [
      "name='main_collection' id=UUID('d7ae246b-3d53-4854-9d0f-7033e91d4bb2') metadata=None tenant='default_tenant' database='default_database'\n"
     ]
    }
   ],
   "source": [
    "collection = chroma_client.get_collection(name=\"main_collection\")\n",
    "print(collection)\n",
    "chroma_client.delete_collection(name=\"main_collection\")"
   ]
  },
  {
   "cell_type": "code",
   "execution_count": 41,
   "metadata": {},
   "outputs": [],
   "source": [
    "sentence_transformer_ef = embedding_functions.SentenceTransformerEmbeddingFunction(model_name=\"all-mpnet-base-v2\")\n",
    "collection = chroma_client.create_collection(name=\"main_collection\", embedding_function=sentence_transformer_ef)\n"
   ]
  },
  {
   "cell_type": "code",
   "execution_count": 42,
   "metadata": {},
   "outputs": [],
   "source": [
    "collection.add(\n",
    "    documents=documents,\n",
    "    metadatas=metadatas,\n",
    "    ids=ids\n",
    ")"
   ]
  },
  {
   "cell_type": "code",
   "execution_count": 44,
   "metadata": {},
   "outputs": [
    {
     "data": {
      "text/plain": [
       "{'ids': [['8567', '8842']],\n",
       " 'distances': [[0.6566780805587769, 0.7316203117370605]],\n",
       " 'metadatas': [[{'address': 'Al-Ameen Indian Food  - Lorong 1 Toa Payoh',\n",
       "    'beverage': 'False',\n",
       "    'countries': 'indian',\n",
       "    'fast food': 'False',\n",
       "    'halal': 'True',\n",
       "    'healthy': 'False',\n",
       "    'latitude': 1.3411004705882354,\n",
       "    'local': 'True',\n",
       "    'longitude': 103.84524852666665,\n",
       "    'name': 'Al-Ameen Indian Food',\n",
       "    'seafood': 'False',\n",
       "    'soup': 'False'},\n",
       "   {'address': 'Ameeda Indian Muslim Food - Toa Payoh North',\n",
       "    'beverage': 'False',\n",
       "    'countries': 'indian',\n",
       "    'fast food': 'False',\n",
       "    'halal': 'True',\n",
       "    'healthy': 'False',\n",
       "    'latitude': 1.3422530333333333,\n",
       "    'local': 'False',\n",
       "    'longitude': 103.84883875036971,\n",
       "    'name': 'Ameeda Indian Muslim Food',\n",
       "    'seafood': 'False',\n",
       "    'soup': 'False'}]],\n",
       " 'embeddings': None,\n",
       " 'documents': [['Al-Ameen Indian Food[\"Local\", \"Indian\", \"Chicken\", \"Noodles\"]',\n",
       "   'Ameeda Indian Muslim Food[\"Indian\", \"Chicken\"]']],\n",
       " 'uris': None,\n",
       " 'data': None}"
      ]
     },
     "execution_count": 44,
     "metadata": {},
     "output_type": "execute_result"
    }
   ],
   "source": [
    "results = collection.query(\n",
    "    query_texts=[\"I want to eat indian food\"],\n",
    "    n_results=2,\n",
    "# )\n",
    "    where={\"$and\": [{\"longitude\": {\n",
    "                                              \"$gte\": 103.82106739322592\n",
    "                                          }},\n",
    "                                              {\"longitude\": {\n",
    "                                                  \"$lte\": 103.85711350677408}},\n",
    "                                              {\"latitude\": {\n",
    "                                                  \"$gte\": 1.336844381981982}},\n",
    "                                              {\"latitude\": {\"$lte\": 1.372880418018018}}]})\n",
    "    \n",
    "\n",
    "\n",
    "results"
   ]
  },
  {
   "cell_type": "code",
   "execution_count": null,
   "metadata": {},
   "outputs": [],
   "source": []
  }
 ],
 "metadata": {
  "kernelspec": {
   "display_name": "Python 3.9.13 ('base')",
   "language": "python",
   "name": "python3"
  },
  "language_info": {
   "codemirror_mode": {
    "name": "ipython",
    "version": 3
   },
   "file_extension": ".py",
   "mimetype": "text/x-python",
   "name": "python",
   "nbconvert_exporter": "python",
   "pygments_lexer": "ipython3",
   "version": "3.9.13"
  },
  "orig_nbformat": 4,
  "vscode": {
   "interpreter": {
    "hash": "6051a78a899b2c27ccb20a0ffad68570a20c157a48da085942bcbac3fd9a9f9c"
   }
  }
 },
 "nbformat": 4,
 "nbformat_minor": 2
}
