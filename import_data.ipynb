{
 "cells": [
  {
   "cell_type": "code",
   "execution_count": 1,
   "metadata": {},
   "outputs": [],
   "source": [
    "import chromadb\n",
    "from chromadb.utils import embedding_functions\n",
    "chroma_client = chromadb.Client()"
   ]
  },
  {
   "cell_type": "code",
   "execution_count": 18,
   "metadata": {},
   "outputs": [
    {
     "name": "stdout",
     "output_type": "stream",
     "text": [
      "[\"Western\", \"Fast Food\", \"Halal\", \"Chicken\", \"Beverages\"]\n",
      "Texas Chicken\n"
     ]
    }
   ],
   "source": [
    "import csv\n",
    "\n",
    "with open('Grab SG Restaurants Modified.csv') as file:\n",
    "    lines = csv.reader(file)\n",
    "\n",
    "    #id_source,name,address,country,cuisine,currency,delivery_cost,lat,lon,opening_hours,image_url,radius,rating,reviews_nr,delivery_options,promo,loc_type,delivery_by,delivery_time,halal,beverage,soup,seafood,healthy,fast food,local,countries\n",
    "\n",
    "    documents = []\n",
    "    metadatas = []\n",
    "    ids = []\n",
    "    id = 1\n",
    "\n",
    "    for i, line in enumerate(lines):\n",
    "        if i == 0:\n",
    "            continue\n",
    "        \n",
    "        documents.append(line[4])\n",
    "        metadatas.append({\"name\": line[1],\"address\": line[2],\"halal\": line[-8], \"beverage\": line[-7], \"soup\": line[-6], \"seafood\": line[-5], \"healthy\": line[-4], \"fast food\": line[-3], \"local\": line[-2], \"countries\": line[-1]})\n",
    "        ids.append(str(id))\n",
    "        id += 1\n",
    "\n",
    "    documents = documents\n",
    "    metadatas = metadatas\n",
    "    ids = ids\n",
    "\n",
    "    print(documents[0])\n",
    "    print(metadatas[0][\"name\"])\n",
    "\n",
    "    \n",
    "    \n",
    "\n",
    "    \n",
    "\n"
   ]
  },
  {
   "cell_type": "code",
   "execution_count": 3,
   "metadata": {},
   "outputs": [
    {
     "name": "stderr",
     "output_type": "stream",
     "text": [
      "/Users/nic/opt/anaconda3/lib/python3.9/site-packages/torch/_utils.py:776: UserWarning: TypedStorage is deprecated. It will be removed in the future and UntypedStorage will be the only storage class. This should only matter to you if you are using storages directly.  To access UntypedStorage directly, use tensor.untyped_storage() instead of tensor.storage()\n",
      "  return self.fget.__get__(instance, owner)()\n"
     ]
    }
   ],
   "source": [
    "sentence_transformer_ef = embedding_functions.SentenceTransformerEmbeddingFunction(model_name=\"all-mpnet-base-v2\")\n",
    "collection = chroma_client.create_collection(name=\"my_collection\", embedding_function=sentence_transformer_ef)"
   ]
  },
  {
   "cell_type": "code",
   "execution_count": 4,
   "metadata": {},
   "outputs": [],
   "source": [
    "collection.add(\n",
    "    documents=documents,\n",
    "    metadatas=metadatas,\n",
    "    ids=ids\n",
    ")"
   ]
  },
  {
   "cell_type": "code",
   "execution_count": 7,
   "metadata": {},
   "outputs": [
    {
     "data": {
      "text/plain": [
       "{'ids': [['98', '49', '68', '746', '245']],\n",
       " 'distances': [[0.9586342573165894,\n",
       "   1.023498773574829,\n",
       "   1.0647084712982178,\n",
       "   1.1010065078735352,\n",
       "   1.114190936088562]],\n",
       " 'metadatas': [[{'address': 'Ramen Hitoyoshi - Harbourfront Centre',\n",
       "    'beverage': 'False',\n",
       "    'countries': '[\"japanese\"]',\n",
       "    'fast food': 'False',\n",
       "    'halal': 'True',\n",
       "    'healthy': 'False',\n",
       "    'local': 'True',\n",
       "    'name': 'Ramen Hitoyoshi',\n",
       "    'seafood': 'False',\n",
       "    'soup': 'False'},\n",
       "   {'address': 'Akimitsu - VivoCity',\n",
       "    'beverage': 'False',\n",
       "    'countries': '[\"japanese\"]',\n",
       "    'fast food': 'False',\n",
       "    'halal': 'True',\n",
       "    'healthy': 'False',\n",
       "    'local': 'True',\n",
       "    'name': 'Akimitsu',\n",
       "    'seafood': 'False',\n",
       "    'soup': 'False'},\n",
       "   {'address': 'Afuri - Vivo City',\n",
       "    'beverage': 'False',\n",
       "    'countries': '[\"japanese\"]',\n",
       "    'fast food': 'False',\n",
       "    'halal': 'True',\n",
       "    'healthy': 'False',\n",
       "    'local': 'True',\n",
       "    'name': 'Afuri',\n",
       "    'seafood': 'False',\n",
       "    'soup': 'True'},\n",
       "   {'address': 'Konjiki Hototogisu - Great World City [Islandwide Delivery]',\n",
       "    'beverage': 'False',\n",
       "    'countries': '[\"japanese\"]',\n",
       "    'fast food': 'False',\n",
       "    'halal': 'True',\n",
       "    'healthy': 'False',\n",
       "    'local': 'True',\n",
       "    'name': 'Konjiki Hototogisu',\n",
       "    'seafood': 'False',\n",
       "    'soup': 'False'},\n",
       "   {'address': 'Menya Sanji Ramen - Tanjong Pagar',\n",
       "    'beverage': 'False',\n",
       "    'countries': '[\"japanese\"]',\n",
       "    'fast food': 'False',\n",
       "    'halal': 'True',\n",
       "    'healthy': 'False',\n",
       "    'local': 'True',\n",
       "    'name': 'Menya Sanji Ramen',\n",
       "    'seafood': 'False',\n",
       "    'soup': 'False'}]],\n",
       " 'embeddings': None,\n",
       " 'documents': [['[\"Japanese\", \"Ramen\"]',\n",
       "   '[\"Japanese\", \"Noodles\", \"Chicken\", \"Ramen\"]',\n",
       "   '[\"Soup\", \"Japanese\", \"Noodles\", \"Ramen\"]',\n",
       "   '[\"Ramen\", \"Japanese\", \"Noodles\", \"Islandwide Delivery\"]',\n",
       "   '[\"Japanese\", \"Ramen\", \"Local\"]']],\n",
       " 'uris': None,\n",
       " 'data': None}"
      ]
     },
     "execution_count": 7,
     "metadata": {},
     "output_type": "execute_result"
    }
   ],
   "source": [
    "results = collection.query(\n",
    "    query_texts=[\"I want ramen\"],\n",
    "    n_results=5\n",
    "    \n",
    ")\n",
    "\n",
    "results"
   ]
  }
 ],
 "metadata": {
  "kernelspec": {
   "display_name": "Python 3.9.13 ('base')",
   "language": "python",
   "name": "python3"
  },
  "language_info": {
   "codemirror_mode": {
    "name": "ipython",
    "version": 3
   },
   "file_extension": ".py",
   "mimetype": "text/x-python",
   "name": "python",
   "nbconvert_exporter": "python",
   "pygments_lexer": "ipython3",
   "version": "3.9.13"
  },
  "orig_nbformat": 4,
  "vscode": {
   "interpreter": {
    "hash": "6051a78a899b2c27ccb20a0ffad68570a20c157a48da085942bcbac3fd9a9f9c"
   }
  }
 },
 "nbformat": 4,
 "nbformat_minor": 2
}
