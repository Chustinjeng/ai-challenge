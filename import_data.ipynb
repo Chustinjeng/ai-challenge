{
 "cells": [
  {
   "cell_type": "code",
   "execution_count": null,
   "metadata": {},
   "outputs": [],
   "source": [
    "import chromadb\n",
    "from chromadb.utils import embedding_functions\n",
    "chroma_client = chromadb.Client()"
   ]
  },
  {
   "cell_type": "code",
   "execution_count": null,
   "metadata": {},
   "outputs": [],
   "source": [
    "import csv\n",
    "\n",
    "with open('Grab SG Restaurants Modified.csv') as file:\n",
    "    lines = csv.reader(file)\n",
    "\n",
    "    #id_source,name,address,country,cuisine,currency,delivery_cost,lat,lon,opening_hours,image_url,radius,rating,reviews_nr,delivery_options,promo,loc_type,delivery_by,delivery_time,halal,beverage,soup,seafood,healthy,fast food,local,countries\n",
    "\n",
    "    documents = []\n",
    "    metadatas = []\n",
    "    ids = []\n",
    "    id = 1\n",
    "\n",
    "    for i, line in enumerate(lines):\n",
    "        if i == 0:\n",
    "            continue\n",
    "        \n",
    "        documents.append(line[4])\n",
    "        metadatas.append({\"name\": line[1],\"address\": line[2],\"halal\": line[-8], \"beverage\": line[-7], \"soup\": line[-6], \"seafood\": line[-5], \"healthy\": line[-4], \"fast food\": line[-3], \"local\": line[-2], \"countries\": line[-1]})\n",
    "        ids.append(str(id))\n",
    "        id += 1\n",
    "\n",
    "    documents = documents\n",
    "    metadatas = metadatas\n",
    "    ids = ids\n",
    "\n",
    "    print(documents[0])\n",
    "    print(metadatas[0][\"name\"])\n",
    "\n",
    "    \n",
    "    \n",
    "\n",
    "    \n",
    "\n"
   ]
  },
  {
   "cell_type": "code",
   "execution_count": null,
   "metadata": {},
   "outputs": [],
   "source": [
    "sentence_transformer_ef = embedding_functions.SentenceTransformerEmbeddingFunction(model_name=\"all-mpnet-base-v2\")\n",
    "collection = chroma_client.create_collection(name=\"my_collection\", embedding_function=sentence_transformer_ef)"
   ]
  },
  {
   "cell_type": "code",
   "execution_count": null,
   "metadata": {},
   "outputs": [],
   "source": [
    "collection.add(\n",
    "    documents=documents,\n",
    "    metadatas=metadatas,\n",
    "    ids=ids\n",
    ")"
   ]
  },
  {
   "cell_type": "code",
   "execution_count": null,
   "metadata": {},
   "outputs": [],
   "source": [
    "results = collection.query(\n",
    "    query_texts=[\"I want ramen\"],\n",
    "    n_results=5\n",
    "    \n",
    ")\n",
    "\n",
    "results"
   ]
  }
 ],
 "metadata": {
  "kernelspec": {
   "display_name": "Python 3.9.13 ('base')",
   "language": "python",
   "name": "python3"
  },
  "language_info": {
   "codemirror_mode": {
    "name": "ipython",
    "version": 3
   },
   "file_extension": ".py",
   "mimetype": "text/x-python",
   "name": "python",
   "nbconvert_exporter": "python",
   "pygments_lexer": "ipython3",
   "version": "3.9.13"
  },
  "orig_nbformat": 4,
  "vscode": {
   "interpreter": {
    "hash": "6051a78a899b2c27ccb20a0ffad68570a20c157a48da085942bcbac3fd9a9f9c"
   }
  }
 },
 "nbformat": 4,
 "nbformat_minor": 2
}
